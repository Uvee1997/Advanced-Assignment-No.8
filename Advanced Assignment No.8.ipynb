{
 "cells": [
  {
   "cell_type": "markdown",
   "id": "96063e0d",
   "metadata": {},
   "source": [
    "1) What are the two latest user defined exception constraints in Python 3.X ?\n",
    "\n",
    ":- IndexError & FileNotFoundError"
   ]
  },
  {
   "cell_type": "markdown",
   "id": "da57cdb7",
   "metadata": {},
   "source": [
    "2) How are class-based exceptions that have been raised matched to handlers ?\n",
    "\n",
    ":- Raised exception and handled using Catch in a Try Control Structure"
   ]
  },
  {
   "cell_type": "markdown",
   "id": "f72827f8",
   "metadata": {},
   "source": [
    "3) Describe two methods for attaching context information to exception artefacts.\n",
    "\n",
    ":- Exception Chaining & Embedded Tracebacks "
   ]
  },
  {
   "cell_type": "markdown",
   "id": "87e75d62",
   "metadata": {},
   "source": [
    "4) Describe two methods for specifying the text of an exception object's error message.\n",
    "\n",
    ":- Try & except"
   ]
  },
  {
   "cell_type": "markdown",
   "id": "907f9725",
   "metadata": {},
   "source": [
    "5) Why do you no longer use string-based exceptions ?\n",
    "\n",
    ":- When string based exception handling is used, they are tuples containing directly derived classes."
   ]
  }
 ],
 "metadata": {
  "kernelspec": {
   "display_name": "Python 3 (ipykernel)",
   "language": "python",
   "name": "python3"
  },
  "language_info": {
   "codemirror_mode": {
    "name": "ipython",
    "version": 3
   },
   "file_extension": ".py",
   "mimetype": "text/x-python",
   "name": "python",
   "nbconvert_exporter": "python",
   "pygments_lexer": "ipython3",
   "version": "3.9.7"
  }
 },
 "nbformat": 4,
 "nbformat_minor": 5
}
